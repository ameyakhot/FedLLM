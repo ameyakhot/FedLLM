{
 "cells": [
  {
   "cell_type": "markdown",
   "metadata": {},
   "source": [
    " Trimming to 36k"
   ]
  },
  {
   "cell_type": "code",
   "execution_count": 1,
   "metadata": {},
   "outputs": [],
   "source": [
    "lines = 36000\n",
    "\n",
    "input = 'movie_lines.txt'\n",
    "output = \"movie36000.txt\""
   ]
  },
  {
   "cell_type": "code",
   "execution_count": 3,
   "metadata": {},
   "outputs": [],
   "source": [
    "with open(input, 'r', encoding='utf-8') as i:\n",
    "    l = i.readlines()\n",
    "\n",
    "with open(output, 'w', encoding=\"utf-8\") as o:\n",
    "    o.writelines(l[:lines])"
   ]
  },
  {
   "cell_type": "markdown",
   "metadata": {},
   "source": [
    "Removing unimportant grabage"
   ]
  },
  {
   "cell_type": "code",
   "execution_count": 4,
   "metadata": {},
   "outputs": [],
   "source": [
    "with open('movie36000.txt', 'r', encoding=\"utf-8\") as input, open('movie36k_preprocessed.txt', 'w', encoding='utf-8') as output:\n",
    "    for line in input:\n",
    "        parts = line.split(\"+++$+++\")\n",
    "\n",
    "        # speaker \n",
    "        speaker = parts[-2]\n",
    "        diag = parts[-1]\n",
    "        output.write(f\"{speaker}: {diag}\")"
   ]
  },
  {
   "cell_type": "code",
   "execution_count": null,
   "metadata": {},
   "outputs": [],
   "source": []
  }
 ],
 "metadata": {
  "kernelspec": {
   "display_name": "Python 3.10.14 ('fedllm')",
   "language": "python",
   "name": "python3"
  },
  "language_info": {
   "codemirror_mode": {
    "name": "ipython",
    "version": 3
   },
   "file_extension": ".py",
   "mimetype": "text/x-python",
   "name": "python",
   "nbconvert_exporter": "python",
   "pygments_lexer": "ipython3",
   "version": "3.10.14"
  },
  "orig_nbformat": 4,
  "vscode": {
   "interpreter": {
    "hash": "352e2283d4d26133c8688ebb207403a0f19149a126d3588d2490a9b613f9bf6c"
   }
  }
 },
 "nbformat": 4,
 "nbformat_minor": 2
}
